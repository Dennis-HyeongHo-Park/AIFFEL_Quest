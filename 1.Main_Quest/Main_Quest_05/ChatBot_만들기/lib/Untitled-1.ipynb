{
 "cells": [],  # 노트북의 셀 목록
 "metadata": {},  # 노트북의 메타데이터
 "nbformat": 4,  # 노트북 형식 버전
 "nbformat_minor": 5  # 노트북 마이너 형식 버전
}
